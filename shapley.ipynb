{
 "cells": [
  {
   "attachments": {},
   "cell_type": "markdown",
   "metadata": {},
   "source": [
    "# Shapley Values"
   ]
  },
  {
   "attachments": {},
   "cell_type": "markdown",
   "metadata": {},
   "source": [
    "Shapley values originate in game theory to failry measure the contribution of each player in a game on the traget value, i.e. the contributio of each employee to th profit a company makes.\n",
    "\n",
    "In machine learning, the player correspond to the explanatory variables and the shapley values measure their contribution to the target varible given a model.\n",
    "\n",
    "Shalpley values can be used to get an estimate of the contribution of each explanatory variable for one individual feature but also access varialbe importance and interdependencies.\n",
    "Additionally, they can be used for data exploration using black box models which are able to capture more complex structures in the data compared to simple, interptratable models. \n",
    "They can also be used for debugging a model, as shapley values allow us to comprehend what influences a prediction to see why a prediciton ist far from the target."
   ]
  },
  {
   "attachments": {},
   "cell_type": "markdown",
   "metadata": {},
   "source": [
    "### Formula"
   ]
  },
  {
   "attachments": {},
   "cell_type": "markdown",
   "metadata": {},
   "source": [
    "$$ \\phi_i \\quad = \\quad \\sum_{S \\subset \\{1,\\dots,p\\}\\{i\\}} \\frac{\\mid S\\mid ! (p-\\mid S\\mid ! -1)!}{p!} \\left(val(S \\cup \\{i\\}) -val(S)\\right)$$ \n",
    "\n",
    "\n"
   ]
  },
  {
   "attachments": {},
   "cell_type": "markdown",
   "metadata": {},
   "source": [
    "- $\\mid S\\mid ! $ is the number of combinations (order sensitive) the variables can be added to the model\n",
    "- $(p-\\mid S\\mid -1)! $ is the number of combinations varibales can be added to the model after the $i$ th vairbale was added\n",
    "- $p!$ is the number of combinations of $p$ variables to contribute to the model\n",
    "\n",
    "The Shapley Value of a varialbe is the expected marginal contribution to the target which is the weightes average of the varibale contribution.\n",
    "\n",
    "The first summand represents the probability of the occurance of a vairble in a combiantion of $p$ variables. \n",
    "For this purpose it is assumed that each vairble being included have equal probabilities.\n",
    "\n",
    "\n",
    "The second part of the summand measures the impact of variable $i$'s contribution to the target, e.g. it measures the difference for the target ($val$) with and without that vairiable.\n"
   ]
  },
  {
   "attachments": {},
   "cell_type": "markdown",
   "metadata": {},
   "source": [
    "### Axioms\n",
    "- Symmetry: \n",
    "- Null player:\n",
    "- Additivity: Overall shapley value equals the \n",
    "- Efficiency: $f(x) = \\sum_{i=1}^p \\phi_i \\mathbb{E}_X[f(X)]$\n",
    "- Consistency ()\n",
    "\n"
   ]
  },
  {
   "attachments": {},
   "cell_type": "markdown",
   "metadata": {},
   "source": [
    "In practirce, calculating shapley vlaues is not possilbe (or can be computionally very expensive) so the python package `SHAP` vor example uses approximatino methods (e.g. KernelShap uses some kind of lineare regression and permutation). "
   ]
  },
  {
   "cell_type": "markdown",
   "metadata": {},
   "source": []
  }
 ],
 "metadata": {
  "language_info": {
   "name": "python"
  },
  "orig_nbformat": 4
 },
 "nbformat": 4,
 "nbformat_minor": 2
}
